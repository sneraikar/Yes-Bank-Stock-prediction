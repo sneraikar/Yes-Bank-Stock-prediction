{
  "nbformat": 4,
  "nbformat_minor": 0,
  "metadata": {
    "colab": {
      "provenance": [],
      "authorship_tag": "ABX9TyOPtzVOgfuLx8xThuDQ4JyK",
      "include_colab_link": true
    },
    "kernelspec": {
      "name": "python3",
      "display_name": "Python 3"
    },
    "language_info": {
      "name": "python"
    }
  },
  "cells": [
    {
      "cell_type": "markdown",
      "metadata": {
        "id": "view-in-github",
        "colab_type": "text"
      },
      "source": [
        "<a href=\"https://colab.research.google.com/github/sneraikar/Yes-Bank-Stock-prediction/blob/main/Yes_Bank_Stock_closing_Price_Prediction(Regression).ipynb\" target=\"_parent\"><img src=\"https://colab.research.google.com/assets/colab-badge.svg\" alt=\"Open In Colab\"/></a>"
      ]
    },
    {
      "cell_type": "markdown",
      "source": [
        "**Title : \"Yes Bank Stock Closing Price Prediction - Supervised ML Regression\"**"
      ],
      "metadata": {
        "id": "bi4FP2p9owKc"
      }
    },
    {
      "cell_type": "markdown",
      "source": [
        "**Problem Statement**\n",
        "\n",
        "> Yes Bank is a well-known bank in the Indian financial domain.Since 2018,it has been in the news because of the fraud case involving Rana Kapoor.Owing to this fact,it was interesting to see how that impacted the stock prices of the company and whether Time series models or any other predictive models can do justice to such situations.This dataset has monthly stock prices of the bank since its inception and includes closing,starting,highest and lowest stock prices of every month.The main objective is to predict the stock's closing price of the month."
      ],
      "metadata": {
        "id": "QazMEAaFocDm"
      }
    },
    {
      "cell_type": "markdown",
      "source": [
        "**Solution**"
      ],
      "metadata": {
        "id": "lysL6yI2q0WZ"
      }
    },
    {
      "cell_type": "markdown",
      "source": [
        "Stock market analysis is categorised into two parts: Fundamental and Technical Analysis.\n",
        ">**Fundamental Analysis** : It is about analysing the company's future profitability based on its current business conditions.\n",
        ">**Technical Analysis** : It includes reading the charts and using statistical figures to identify the trends in the stock market.\n",
        "\n",
        ">In this project we are referring to Technical analysis."
      ],
      "metadata": {
        "id": "gqfDONylrUmb"
      }
    },
    {
      "cell_type": "markdown",
      "source": [
        "First and foremost import necessary libraries."
      ],
      "metadata": {
        "id": "OtRU8-L-4S-3"
      }
    },
    {
      "cell_type": "code",
      "execution_count": 1,
      "metadata": {
        "id": "m2Nftsa3mxFK"
      },
      "outputs": [],
      "source": [
        "#Import all necessary libraries for the project\n",
        "import pandas as pd\n",
        "import numpy as np\n",
        "import matplotlib.pyplot as plt\n",
        "import seaborn as sns\n",
        "from sklearn.model_selection import train_test_split\n",
        "from sklearn.model_selection import GridSearchCV\n",
        "from sklearn.preprocessing import StandardScaler\n",
        "from sklearn.linear_model import LinearRegression,Ridge,Lasso"
      ]
    },
    {
      "cell_type": "markdown",
      "source": [
        "Mouting drive and reading given csv file"
      ],
      "metadata": {
        "id": "xRJc7Vd-5vJT"
      }
    },
    {
      "cell_type": "code",
      "source": [],
      "metadata": {
        "id": "UoaxzJda5uDL"
      },
      "execution_count": 1,
      "outputs": []
    }
  ]
}